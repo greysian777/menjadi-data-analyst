{
 "cells": [
  {
   "cell_type": "markdown",
   "metadata": {},
   "source": [
    "# Pemrograman dan Sains Data"
   ]
  },
  {
   "cell_type": "markdown",
   "metadata": {},
   "source": [
    "Dengan mulai beralihnya teknik Data Sains dari penelitian akademis menjadi sebuah industri, banyak organisasi maupun perusahaan mulai berkontribusi ke dalam sebuah ekosistem Data Sains dengan membuat berbagai macam alat bantu untuk mengolah data. Banyak dari alat bantu tersebut dirilis dengan lisensi *open source* dan gratis untuk diunduh, hal ini membuat belajar Data Sains menjadi lebih mudah untuk dipelajari walaupun bukan dari latar belakang seoarang akademisi matematika. Sebelum kita bekerja dengan alat bantu yang ada, kita akan belajar dasar-dasar pemrograman pada Python. Mengapa harus belajar pemograman? Karena kita akan lebih mudah dan efektif dalam bekerja dengan data. Bayangkan bagiamana kita bekerja dengan ribuan data hanya bermodalkan pensil dan kertas, pasti sulit bukan?"
   ]
  },
  {
   "cell_type": "markdown",
   "metadata": {},
   "source": [
    "# 1. Variabel"
   ]
  },
  {
   "cell_type": "markdown",
   "metadata": {},
   "source": [
    "**Variabel** menjadi sebuah dasar yang sangat penting ketika mempelejari sebuah bahasa pemrograman. Kita menggunakan sebuah variabel untuk menyimpan sebuah nilai (*value*) yang akan digunakan kembali. Cara membuat variabel adalah dengan memutuskan sebuah nama untuk variabel tersebut, menuliskan namanya, yang memberikan sebuah nilai (*value*) pada variabel tersebut. Contoh, jika kita sering menggunakan nilai (*value*) <span style=\"color:blue\">365</span>. , kita dapat memasukkan nilai tersebut dalam <span style=\"color:blue\">hari</span>."
   ]
  },
  {
   "cell_type": "markdown",
   "metadata": {},
   "source": [
    "Untuk memasukkan nilai <span style=\"color:blue\">365</span> ke dalam <span style=\"color:blue\">hari</span>, kita menggunakan tanda <span style=\"color:blue\">=</span> . Hal ini dikenal dengan *assignment statement*"
   ]
  },
  {
   "cell_type": "code",
   "execution_count": 2,
   "metadata": {
    "collapsed": true
   },
   "outputs": [],
   "source": [
    "# pendeklarasian suatu variabel bernama hari\n",
    "\n",
    "hari = 365"
   ]
  },
  {
   "cell_type": "markdown",
   "metadata": {},
   "source": [
    "Variabel dalam Python tidak dapat diisi dengan spasi atau sebuah karakter spesial seperti <span style=\"color:blue\">( * )</span> atau <span style=\"color:blue\">( | )</span> . Salah satu karakter yang diperbolehkan adalah <span style=\"color:blue\">( _ )</span> . Garis bawah tersebut untuk menghubungkan banyak kata menjadi sebuah satu nama variabel "
   ]
  },
  {
   "cell_type": "code",
   "execution_count": 3,
   "metadata": {
    "collapsed": true
   },
   "outputs": [],
   "source": [
    "# Contoh penggunaan garis bawah dalam penamaan variabel\n",
    "\n",
    "hari_dalam_setahun = 365"
   ]
  },
  {
   "cell_type": "markdown",
   "metadata": {},
   "source": []
  }
 ],
 "metadata": {
  "kernelspec": {
   "display_name": "Python 3",
   "language": "python",
   "name": "python3"
  },
  "language_info": {
   "codemirror_mode": {
    "name": "ipython",
    "version": 3
   },
   "file_extension": ".py",
   "mimetype": "text/x-python",
   "name": "python",
   "nbconvert_exporter": "python",
   "pygments_lexer": "ipython3",
   "version": "3.6.0"
  }
 },
 "nbformat": 4,
 "nbformat_minor": 2
}
