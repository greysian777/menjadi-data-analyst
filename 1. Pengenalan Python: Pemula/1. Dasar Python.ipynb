{
 "cells": [
  {
   "cell_type": "markdown",
   "metadata": {},
   "source": [
    "# Pemrograman dan Sains Data"
   ]
  },
  {
   "cell_type": "markdown",
   "metadata": {},
   "source": [
    "Dengan mulai beralihnya teknik Data Sains dari penelitian akademis menjadi sebuah industri, banyak organisasi maupun perusahaan mulai berkontribusi ke dalam sebuah ekosistem Data Sains dengan membuat berbagai macam alat bantu untuk mengolah data. Banyak dari alat bantu tersebut dirilis dengan lisensi *open source* dan gratis untuk diunduh, hal ini membuat belajar Data Sains menjadi lebih mudah untuk dipelajari walaupun bukan dari latar belakang seoarang akademisi matematika. Sebelum kita bekerja dengan alat bantu yang ada, kita akan belajar dasar-dasar pemrograman pada Python. Mengapa harus belajar pemograman? Karena kita akan lebih mudah dan efektif dalam bekerja dengan data. Bayangkan bagiamana kita bekerja dengan ribuan data hanya bermodalkan pensil dan kertas, pasti sulit bukan? Kamu bisa melihat penjelasan sederhana tentang Sains Data [disini](https://www.youtube.com/watch?v=0XyV91VYrDs&t=6s)"
   ]
  },
  {
   "cell_type": "markdown",
   "metadata": {},
   "source": [
    "# 1. Variabel"
   ]
  },
  {
   "cell_type": "markdown",
   "metadata": {},
   "source": [
    "**Variabel** menjadi sebuah dasar yang sangat penting ketika mempelejari sebuah bahasa pemrograman. Kita menggunakan sebuah variabel untuk menyimpan sebuah nilai (*value*) yang akan digunakan kembali. Cara membuat variabel adalah dengan memutuskan sebuah nama untuk variabel tersebut, menuliskan namanya, yang memberikan sebuah nilai (*value*) pada variabel tersebut. Contoh, jika kita sering menggunakan nilai (*value*) <span style=\"color:blue\">365</span>. , kita dapat memasukkan nilai tersebut dalam <span style=\"color:blue\">hari</span>."
   ]
  },
  {
   "cell_type": "markdown",
   "metadata": {},
   "source": [
    "Untuk memasukkan nilai <span style=\"color:blue\">365</span> ke dalam <span style=\"color:blue\">hari</span>, kita menggunakan tanda <span style=\"color:blue\">=</span> . Hal ini dikenal dengan *assignment statement*"
   ]
  },
  {
   "cell_type": "code",
   "execution_count": 2,
   "metadata": {
    "collapsed": true
   },
   "outputs": [],
   "source": [
    "# pendeklarasian suatu variabel bernama hari\n",
    "\n",
    "hari = 365"
   ]
  },
  {
   "cell_type": "markdown",
   "metadata": {},
   "source": [
    "Variabel dalam Python tidak dapat diisi dengan spasi atau sebuah karakter spesial seperti <span style=\"color:blue\">( * )</span> atau <span style=\"color:blue\">( | )</span> . Salah satu karakter yang diperbolehkan adalah <span style=\"color:blue\">( _ )</span> . Garis bawah tersebut untuk menghubungkan banyak kata menjadi sebuah satu nama variabel "
   ]
  },
  {
   "cell_type": "code",
   "execution_count": 3,
   "metadata": {
    "collapsed": true
   },
   "outputs": [],
   "source": [
    "# Contoh penggunaan garis bawah dalam penamaan variabel\n",
    "\n",
    "hari_dalam_setahun = 365"
   ]
  },
  {
   "cell_type": "markdown",
   "metadata": {},
   "source": [
    "Kamu juga bisa menambahkan angka ke dalam varibel. Berikut adalah penambahan angka ke dalam variabel yang direkomendasikan"
   ]
  },
  {
   "cell_type": "code",
   "execution_count": 1,
   "metadata": {
    "collapsed": true
   },
   "outputs": [],
   "source": [
    "# Penggunaan huruf dan angka yang direkomendasikan\n",
    "hari_1 = 365\n",
    "hari_2 = 366"
   ]
  },
  {
   "cell_type": "markdown",
   "metadata": {},
   "source": [
    "Python mempunyai kata-kata yang telah dipakai contohnya: <span style=\"color:blue\">True</span>, <span style=\"color:blue\">False</span>, dan <span style=\"color:blue\">Is</span>, sehingga kamu tidak bisa menggunakan kata-kata ini sebagai sebuah variabel. Kamu bisa melihat lebih lengkapnya [disini](https://docs.python.org/3/reference/lexical_analysis.html#keywords)"
   ]
  },
  {
   "cell_type": "markdown",
   "metadata": {},
   "source": [
    "Tambahan, Kamu bisa memberikan sebuah nilai baru ke dalam suatu variabel yang ada."
   ]
  },
  {
   "cell_type": "code",
   "execution_count": 2,
   "metadata": {
    "collapsed": true
   },
   "outputs": [],
   "source": [
    "jumlah_hari_dalam_setahun = 365\n",
    "jumlah_hari_dalam_setahun = 366\n",
    "\n",
    "# Setelah kode ini dieksekusi maka nilai dari jumlah_hari_dalam_setahun akan bernilai 366"
   ]
  },
  {
   "cell_type": "markdown",
   "metadata": {},
   "source": [
    "# 2. Menampilkan Nilai (*value*) dengan menggunakan fungsi Print"
   ]
  },
  {
   "cell_type": "markdown",
   "metadata": {},
   "source": [
    "Pada langkah sebelumnya, kita telah menambahaka sebuah nilai ke dalam sebuah variabel. Namun, kita tidak dapat melihat sebuah konfirmasi secara visual. Kita dapat mengonfirmasi hal ini dengan menggunakan fungsi <span style=\"color:blue\">print()</span>. Sebuah fungsi adalah kode yang dapat digunakan ulang. Fungsi membutuhkan sebuah input dan menghasilkan sebuah output. Biasanya fungsi akan merubah sebuah nilai dari input namun, fungsi <span style=\"color:blue\">print()</span> hanya akan menampilkannya saja."
   ]
  },
  {
   "cell_type": "code",
   "execution_count": 4,
   "metadata": {
    "collapsed": false
   },
   "outputs": [
    {
     "name": "stdout",
     "output_type": "stream",
     "text": [
      "365\n",
      "366\n"
     ]
    }
   ],
   "source": [
    "# Cara sederhana menggunakan fungsi print()\n",
    "\n",
    "print(365)\n",
    "\n",
    "# atau\n",
    "\n",
    "jumlah_hari = 366\n",
    "print(jumlah_hari)\n",
    "\n",
    "\n"
   ]
  },
  {
   "cell_type": "code",
   "execution_count": 5,
   "metadata": {
    "collapsed": true
   },
   "outputs": [],
   "source": [
    "# Belajar Mandiri\n",
    "\n",
    "# Silahkan kamu membuat tiga buah variabel bernama surabaya, jakarta, dan bandung dengan nilai 22, 23, dan 24\n",
    "# Kemudian gunakan fungsi print() untuk menampilkan hasilnya\n",
    "\n",
    "# Contoh \n",
    "madura = 26\n",
    "print(madura)\n",
    "\n",
    "# Silahkan tuliskan kode kamu di bawah ini\n",
    "\n",
    "\n"
   ]
  },
  {
   "cell_type": "markdown",
   "metadata": {},
   "source": [
    "# 3. Tipe Data"
   ]
  },
  {
   "cell_type": "markdown",
   "metadata": {},
   "source": [
    "Kita telah menggunakan bilangan bulat seperti <span style=\"color:blue\">22</span> dan <span style=\"color:blue\">23</span>, yang lebih dikenal sebagai **integer**. Kemudian ada **float** yang merepresentasikan sebuah angka yang mempunyai nilai koma, contoh: <span style=\"color:blue\">3.5</span> dan <span style=\"color:blue\">4.1111</span>"
   ]
  },
  {
   "cell_type": "markdown",
   "metadata": {},
   "source": [
    "Tipe data yang sering yang digunakan selain angka adalah **string**, yang merepresentasikan sebuah teks dengan nilai string.  String diletakkan kedalam satu petik <span style=\"color:blue\">( ' )</span> atau dua petik <span style=\"color:blue\">( \" )</span>"
   ]
  }
 ],
 "metadata": {
  "kernelspec": {
   "display_name": "Python 3",
   "language": "python",
   "name": "python3"
  },
  "language_info": {
   "codemirror_mode": {
    "name": "ipython",
    "version": 3
   },
   "file_extension": ".py",
   "mimetype": "text/x-python",
   "name": "python",
   "nbconvert_exporter": "python",
   "pygments_lexer": "ipython3",
   "version": "3.6.0"
  }
 },
 "nbformat": 4,
 "nbformat_minor": 2
}
